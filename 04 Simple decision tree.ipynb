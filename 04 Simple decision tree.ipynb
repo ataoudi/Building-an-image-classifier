{
 "cells": [
  {
   "cell_type": "markdown",
   "metadata": {},
   "source": [
    "# <center>Simple decision tree</center>"
   ]
  },
  {
   "cell_type": "code",
   "execution_count": 18,
   "metadata": {},
   "outputs": [],
   "source": [
    "import matplotlib.pyplot as plt\n",
    "import numpy as np\n",
    "import pandas as pd\n",
    "from PIL import Image\n",
    "import seaborn as sns\n",
    "from sklearn.decomposition import PCA\n",
    "from sklearn.pipeline import Pipeline\n",
    "from sklearn.preprocessing import StandardScaler\n",
    "from sklearn.neighbors import KNeighborsClassifier\n",
    "from sklearn.tree import DecisionTreeClassifier, export_graphviz\n",
    "from sklearn.model_selection import ParameterGrid, GridSearchCV\n",
    "from sklearn.metrics import confusion_matrix\n",
    "import graphviz\n",
    "%matplotlib inline\n",
    "sns.set()"
   ]
  },
  {
   "cell_type": "markdown",
   "metadata": {},
   "source": [
    "We will load data from data.npz file."
   ]
  },
  {
   "cell_type": "code",
   "execution_count": 11,
   "metadata": {},
   "outputs": [],
   "source": [
    "# Load all numpy arrays except training images (in order to save memory).\n",
    "def load_data():\n",
    "    with np.load('data.npz', allow_pickle=True) as npz_file:\n",
    "        #X_train = npz_file['X_train']\n",
    "        X_valid = npz_file['X_valid']\n",
    "        X_test = npz_file['X_test']\n",
    "        X_train_features = npz_file['X_train_features']\n",
    "        X_valid_features = npz_file['X_valid_features']\n",
    "        X_test_features = npz_file['X_test_features']\n",
    "        y_train_1h = npz_file['y_train_1h']\n",
    "        y_valid_1h = npz_file['y_valid_1h']\n",
    "        y_test_1h = npz_file['y_test_1h']\n",
    "        y_train = npz_file['y_train']\n",
    "        y_valid = npz_file['y_valid']\n",
    "        y_test = npz_file['y_test']\n",
    "        class_indices = npz_file['class_indices']\n",
    "        train_filenames = npz_file['train_filenames']\n",
    "        valid_filenames = npz_file['valid_filenames']\n",
    "        test_filenames = npz_file['test_filenames']\n",
    "    return X_train_features, y_train_1h, y_train, train_filenames, X_valid,X_valid_features, y_valid_1h, y_valid, valid_filenames, X_test, X_test_features, y_test_1h, y_test, test_filenames,class_indices\n",
    "\n",
    "# load training images\n",
    "def load_images():\n",
    "    with np.load('data.npz', allow_pickle=True) as npz_file:\n",
    "        X_train = npz_file['X_train']\n",
    "    return X_train\n",
    "\n",
    "# merge two dictionaries\n",
    "def merge_dict(x,y):\n",
    "    d = x.copy()\n",
    "    d.update(y)\n",
    "    return d\n",
    "\n",
    "# fit a model\n",
    "def fit_model(model, grid, X_tr, y_tr, X_va, y_va, X_t, y_t):\n",
    "    valid_scores = []\n",
    "    train_scores = []\n",
    "    params = []\n",
    "    for params_dict in grid:\n",
    "        #print (params_dict)\n",
    "        params.append(params_dict)\n",
    "        model.set_params(**params_dict)\n",
    "        model.fit(X_tr, y_tr)\n",
    "        train_scores.append(model.score(X_tr, y_tr))\n",
    "        valid_scores.append(model.score(X_va, y_va))\n",
    "    best_index = np.argmax(valid_scores)\n",
    "    # refit model with best params\n",
    "    model.set_params(**params[best_index])\n",
    "    model.fit(X_tr, y_tr)\n",
    "    test_score = model.score(X_t, y_t)\n",
    "    return { 'best_params':params[best_index],\n",
    "              'params':params,\n",
    "             'train_scores':train_scores,\n",
    "             'valid_scores':valid_scores,\n",
    "             'test_score':test_score,\n",
    "             'best_index':best_index,\n",
    "              'best_valid_score':valid_scores[best_index],\n",
    "              'best_model':model\n",
    "            }\n",
    "\n",
    "X_train_features, y_train_1h, y_train, train_filenames, X_valid,X_valid_features, y_valid_1h, y_valid, valid_filenames, X_test, X_test_features, y_test_1h, y_test, test_filenames,class_indices = load_data()\n"
   ]
  },
  {
   "cell_type": "markdown",
   "metadata": {},
   "source": [
    "## Simple decision trees\n",
    "- Can you do better than the k-NN baseline with decision trees?\n",
    "\n",
    "Let's train a DecisionTreeClassifier with many grid hyperparams :\n"
   ]
  },
  {
   "cell_type": "code",
   "execution_count": 8,
   "metadata": {},
   "outputs": [
    {
     "name": "stdout",
     "output_type": "stream",
     "text": [
      "{'criterion': 'gini', 'max_depth': 1}\n",
      "{'criterion': 'gini', 'max_depth': 2}\n",
      "{'criterion': 'gini', 'max_depth': 3}\n",
      "{'criterion': 'gini', 'max_depth': 4}\n",
      "{'criterion': 'gini', 'max_depth': 5}\n",
      "{'criterion': 'gini', 'max_depth': 6}\n",
      "{'criterion': 'gini', 'max_depth': 7}\n",
      "{'criterion': 'gini', 'max_depth': 8}\n",
      "{'criterion': 'gini', 'max_depth': 9}\n",
      "{'criterion': 'gini', 'max_depth': 10}\n",
      "{'criterion': 'gini', 'max_depth': 11}\n",
      "{'criterion': 'gini', 'max_depth': 12}\n",
      "{'criterion': 'gini', 'max_depth': 13}\n",
      "{'criterion': 'gini', 'max_depth': 14}\n",
      "{'criterion': 'gini', 'max_depth': 15}\n",
      "{'criterion': 'gini', 'max_depth': 16}\n",
      "{'criterion': 'gini', 'max_depth': 17}\n",
      "{'criterion': 'gini', 'max_depth': 18}\n",
      "{'criterion': 'gini', 'max_depth': 19}\n",
      "{'criterion': 'entropy', 'max_depth': 1}\n",
      "{'criterion': 'entropy', 'max_depth': 2}\n",
      "{'criterion': 'entropy', 'max_depth': 3}\n",
      "{'criterion': 'entropy', 'max_depth': 4}\n",
      "{'criterion': 'entropy', 'max_depth': 5}\n",
      "{'criterion': 'entropy', 'max_depth': 6}\n",
      "{'criterion': 'entropy', 'max_depth': 7}\n",
      "{'criterion': 'entropy', 'max_depth': 8}\n",
      "{'criterion': 'entropy', 'max_depth': 9}\n",
      "{'criterion': 'entropy', 'max_depth': 10}\n",
      "{'criterion': 'entropy', 'max_depth': 11}\n",
      "{'criterion': 'entropy', 'max_depth': 12}\n",
      "{'criterion': 'entropy', 'max_depth': 13}\n",
      "{'criterion': 'entropy', 'max_depth': 14}\n",
      "{'criterion': 'entropy', 'max_depth': 15}\n",
      "{'criterion': 'entropy', 'max_depth': 16}\n",
      "{'criterion': 'entropy', 'max_depth': 17}\n",
      "{'criterion': 'entropy', 'max_depth': 18}\n",
      "{'criterion': 'entropy', 'max_depth': 19}\n"
     ]
    }
   ],
   "source": [
    "grid = ParameterGrid({\n",
    "'max_depth': np.arange(1,20),\n",
    "'criterion': ['gini', 'entropy']\n",
    "})\n",
    "\n",
    "dt_model = DecisionTreeClassifier(random_state=0)\n",
    "\n",
    "fit_dt = fit_model(dt_model, grid, X_train_features, y_train, X_valid_features, y_valid, X_test_features, y_test)"
   ]
  },
  {
   "cell_type": "markdown",
   "metadata": {},
   "source": [
    "Best params, best validation score, and test accuracy score are :"
   ]
  },
  {
   "cell_type": "code",
   "execution_count": 9,
   "metadata": {},
   "outputs": [
    {
     "name": "stdout",
     "output_type": "stream",
     "text": [
      "Best params :  {'criterion': 'gini', 'max_depth': 7}\n",
      "Best validation score :  0.8633093525179856\n",
      "Test score :  0.84\n"
     ]
    }
   ],
   "source": [
    "print('Best params : ', fit_dt['best_params'])\n",
    "print('Best validation score : ', fit_dt['best_valid_score'])\n",
    "print('Test score : ', fit_dt['test_score'])"
   ]
  },
  {
   "cell_type": "markdown",
   "metadata": {},
   "source": [
    "A DecisionTreeClassifier does not perform better than KNN. It's test accuracy (84%) is less than the KNN one (92%).\n",
    "\n"
   ]
  },
  {
   "cell_type": "code",
   "execution_count": 12,
   "metadata": {},
   "outputs": [
    {
     "data": {
      "image/png": "[encoded data removed]",
      "text/plain": [
       "<Figure size 965.725x432 with 2 Axes>"
      ]
     },
     "metadata": {},
     "output_type": "display_data"
    }
   ],
   "source": [
    "dt = pd.DataFrame([ merge_dict(x, {'valid_score':fit_dt['valid_scores'][i],'train_score':fit_dt['train_scores'][i]}) for i, x in enumerate(fit_dt['params']) ])\n",
    "data=pd.melt(dt, id_vars=['criterion','max_depth'], value_vars=['train_score','valid_score'], var_name='legend', value_name='score')\n",
    "g = sns.FacetGrid(data, col=\"criterion\", height=6)\n",
    "g = g.map(sns.lineplot, \"max_depth\", \"score\",\"legend\")\n",
    "g.add_legend();"
   ]
  },
  {
   "cell_type": "markdown",
   "metadata": {},
   "source": [
    "- What accuracy can you achieve with a depth of 3?\n",
    "\n",
    "For validation score, we can achieve an accuracy of 75% :"
   ]
  },
  {
   "cell_type": "code",
   "execution_count": 13,
   "metadata": {},
   "outputs": [
    {
     "data": {
      "text/html": [
       "<div>\n",
       "<style scoped>\n",
       "    .dataframe tbody tr th:only-of-type {\n",
       "        vertical-align: middle;\n",
       "    }\n",
       "\n",
       "    .dataframe tbody tr th {\n",
       "        vertical-align: top;\n",
       "    }\n",
       "\n",
       "    .dataframe thead th {\n",
       "        text-align: right;\n",
       "    }\n",
       "</style>\n",
       "<table border=\"1\" class=\"dataframe\">\n",
       "  <thead>\n",
       "    <tr style=\"text-align: right;\">\n",
       "      <th></th>\n",
       "      <th>criterion</th>\n",
       "      <th>max_depth</th>\n",
       "      <th>train_score</th>\n",
       "      <th>valid_score</th>\n",
       "    </tr>\n",
       "  </thead>\n",
       "  <tbody>\n",
       "    <tr>\n",
       "      <th>2</th>\n",
       "      <td>gini</td>\n",
       "      <td>3</td>\n",
       "      <td>0.737143</td>\n",
       "      <td>0.748201</td>\n",
       "    </tr>\n",
       "    <tr>\n",
       "      <th>21</th>\n",
       "      <td>entropy</td>\n",
       "      <td>3</td>\n",
       "      <td>0.820714</td>\n",
       "      <td>0.755396</td>\n",
       "    </tr>\n",
       "  </tbody>\n",
       "</table>\n",
       "</div>"
      ],
      "text/plain": [
       "   criterion  max_depth  train_score  valid_score\n",
       "2       gini          3     0.737143     0.748201\n",
       "21   entropy          3     0.820714     0.755396"
      ]
     },
     "execution_count": 13,
     "metadata": {},
     "output_type": "execute_result"
    }
   ],
   "source": [
    "dt[dt.max_depth==3]"
   ]
  },
  {
   "cell_type": "markdown",
   "metadata": {},
   "source": [
    "The test score for this model is 78% :"
   ]
  },
  {
   "cell_type": "code",
   "execution_count": 14,
   "metadata": {},
   "outputs": [
    {
     "data": {
      "text/plain": [
       "0.78"
      ]
     },
     "execution_count": 14,
     "metadata": {},
     "output_type": "execute_result"
    }
   ],
   "source": [
    "dt_model_3 = DecisionTreeClassifier(random_state=0,criterion='entropy',max_depth=3)\n",
    "dt_model_3.fit(X_train_features,y_train)\n",
    "dt_model_3.score(X_test_features, y_test)"
   ]
  },
  {
   "cell_type": "markdown",
   "metadata": {},
   "source": [
    "- Plot the corresponding tree with graphviz"
   ]
  },
  {
   "cell_type": "code",
   "execution_count": 19,
   "metadata": {},
   "outputs": [
    {
     "data": {
      "image/svg+xml": [
       "<?xml version=\"1.0\" encoding=\"UTF-8\" standalone=\"no\"?>\n",
       "<!DOCTYPE svg PUBLIC \"-//W3C//DTD SVG 1.1//EN\"\n",
       " \"http://www.w3.org/Graphics/SVG/1.1/DTD/svg11.dtd\">\n",
       "<!-- Generated by graphviz version 2.38.0 (20140413.2041)\n",
       " -->\n",
       "<!-- Title: Tree Pages: 1 -->\n",
       "<svg width=\"2977pt\" height=\"433pt\"\n",
       " viewBox=\"0.00 0.00 2977.00 433.00\" xmlns=\"http://www.w3.org/2000/svg\" xmlns:xlink=\"http://www.w3.org/1999/xlink\">\n",
       "<g id=\"graph0\" class=\"graph\" transform=\"scale(1 1) rotate(0) translate(4 429)\">\n",
       "<title>Tree</title>\n",
       "<polygon fill=\"white\" stroke=\"none\" points=\"-4,4 -4,-429 2973,-429 2973,4 -4,4\"/>\n",
       "<!-- 0 -->\n",
       "<g id=\"node1\" class=\"node\"><title>0</title>\n",
       "<path fill=\"#e58139\" fill-opacity=\"0.007843\" stroke=\"black\" d=\"M1679,-425C1679,-425 1319,-425 1319,-425 1313,-425 1307,-419 1307,-413 1307,-413 1307,-354 1307,-354 1307,-348 1313,-342 1319,-342 1319,-342 1679,-342 1679,-342 1685,-342 1691,-348 1691,-354 1691,-354 1691,-413 1691,-413 1691,-419 1685,-425 1679,-425\"/>\n",
       "<text text-anchor=\"middle\" x=\"1499\" y=\"-409.8\" font-family=\"Helvetica,sans-Serif\" font-size=\"14.00\">F1269 &lt;= 0.355</text>\n",
       "<text text-anchor=\"middle\" x=\"1499\" y=\"-394.8\" font-family=\"Helvetica,sans-Serif\" font-size=\"14.00\">entropy = 2.505</text>\n",
       "<text text-anchor=\"middle\" x=\"1499\" y=\"-379.8\" font-family=\"Helvetica,sans-Serif\" font-size=\"14.00\">samples = 100.0%</text>\n",
       "<text text-anchor=\"middle\" x=\"1499\" y=\"-364.8\" font-family=\"Helvetica,sans-Serif\" font-size=\"14.00\">value = [0.236, 0.229, 0.182, 0.114, 0.15, 0.089]</text>\n",
       "<text text-anchor=\"middle\" x=\"1499\" y=\"-349.8\" font-family=\"Helvetica,sans-Serif\" font-size=\"14.00\">class = bike</text>\n",
       "</g>\n",
       "<!-- 1 -->\n",
       "<g id=\"node2\" class=\"node\"><title>1</title>\n",
       "<path fill=\"#9de539\" fill-opacity=\"0.203922\" stroke=\"black\" d=\"M1394.5,-306C1394.5,-306 1041.5,-306 1041.5,-306 1035.5,-306 1029.5,-300 1029.5,-294 1029.5,-294 1029.5,-235 1029.5,-235 1029.5,-229 1035.5,-223 1041.5,-223 1041.5,-223 1394.5,-223 1394.5,-223 1400.5,-223 1406.5,-229 1406.5,-235 1406.5,-235 1406.5,-294 1406.5,-294 1406.5,-300 1400.5,-306 1394.5,-306\"/>\n",
       "<text text-anchor=\"middle\" x=\"1218\" y=\"-290.8\" font-family=\"Helvetica,sans-Serif\" font-size=\"14.00\">F1188 &lt;= 0.372</text>\n",
       "<text text-anchor=\"middle\" x=\"1218\" y=\"-275.8\" font-family=\"Helvetica,sans-Serif\" font-size=\"14.00\">entropy = 2.008</text>\n",
       "<text text-anchor=\"middle\" x=\"1218\" y=\"-260.8\" font-family=\"Helvetica,sans-Serif\" font-size=\"14.00\">samples = 55.8%</text>\n",
       "<text text-anchor=\"middle\" x=\"1218\" y=\"-245.8\" font-family=\"Helvetica,sans-Serif\" font-size=\"14.00\">value = [0.01, 0.407, 0.01, 0.157, 0.256, 0.159]</text>\n",
       "<text text-anchor=\"middle\" x=\"1218\" y=\"-230.8\" font-family=\"Helvetica,sans-Serif\" font-size=\"14.00\">class = car</text>\n",
       "</g>\n",
       "<!-- 0&#45;&gt;1 -->\n",
       "<g id=\"edge1\" class=\"edge\"><title>0&#45;&gt;1</title>\n",
       "<path fill=\"none\" stroke=\"black\" d=\"M1401.51,-341.907C1376.66,-331.562 1349.83,-320.389 1324.55,-309.866\"/>\n",
       "<polygon fill=\"black\" stroke=\"black\" points=\"1325.9,-306.634 1315.32,-306.021 1323.21,-313.096 1325.9,-306.634\"/>\n",
       "<text text-anchor=\"middle\" x=\"1324.84\" y=\"-325.435\" font-family=\"Helvetica,sans-Serif\" font-size=\"14.00\">True</text>\n",
       "</g>\n",
       "<!-- 8 -->\n",
       "<g id=\"node9\" class=\"node\"><title>8</title>\n",
       "<path fill=\"#e58139\" fill-opacity=\"0.200000\" stroke=\"black\" d=\"M1956.5,-306C1956.5,-306 1603.5,-306 1603.5,-306 1597.5,-306 1591.5,-300 1591.5,-294 1591.5,-294 1591.5,-235 1591.5,-235 1591.5,-229 1597.5,-223 1603.5,-223 1603.5,-223 1956.5,-223 1956.5,-223 1962.5,-223 1968.5,-229 1968.5,-235 1968.5,-235 1968.5,-294 1968.5,-294 1968.5,-300 1962.5,-306 1956.5,-306\"/>\n",
       "<text text-anchor=\"middle\" x=\"1780\" y=\"-290.8\" font-family=\"Helvetica,sans-Serif\" font-size=\"14.00\">F1189 &lt;= 0.506</text>\n",
       "<text text-anchor=\"middle\" x=\"1780\" y=\"-275.8\" font-family=\"Helvetica,sans-Serif\" font-size=\"14.00\">entropy = 1.4</text>\n",
       "<text text-anchor=\"middle\" x=\"1780\" y=\"-260.8\" font-family=\"Helvetica,sans-Serif\" font-size=\"14.00\">samples = 44.2%</text>\n",
       "<text text-anchor=\"middle\" x=\"1780\" y=\"-245.8\" font-family=\"Helvetica,sans-Serif\" font-size=\"14.00\">value = [0.52, 0.003, 0.399, 0.06, 0.016, 0.002]</text>\n",
       "<text text-anchor=\"middle\" x=\"1780\" y=\"-230.8\" font-family=\"Helvetica,sans-Serif\" font-size=\"14.00\">class = bike</text>\n",
       "</g>\n",
       "<!-- 0&#45;&gt;8 -->\n",
       "<g id=\"edge8\" class=\"edge\"><title>0&#45;&gt;8</title>\n",
       "<path fill=\"none\" stroke=\"black\" d=\"M1596.49,-341.907C1621.34,-331.562 1648.17,-320.389 1673.45,-309.866\"/>\n",
       "<polygon fill=\"black\" stroke=\"black\" points=\"1674.79,-313.096 1682.68,-306.021 1672.1,-306.634 1674.79,-313.096\"/>\n",
       "<text text-anchor=\"middle\" x=\"1673.16\" y=\"-325.435\" font-family=\"Helvetica,sans-Serif\" font-size=\"14.00\">False</text>\n",
       "</g>\n",
       "<!-- 2 -->\n",
       "<g id=\"node3\" class=\"node\"><title>2</title>\n",
       "<path fill=\"#8139e5\" fill-opacity=\"0.235294\" stroke=\"black\" d=\"M753,-187C753,-187 385,-187 385,-187 379,-187 373,-181 373,-175 373,-175 373,-116 373,-116 373,-110 379,-104 385,-104 385,-104 753,-104 753,-104 759,-104 765,-110 765,-116 765,-116 765,-175 765,-175 765,-181 759,-187 753,-187\"/>\n",
       "<text text-anchor=\"middle\" x=\"569\" y=\"-171.8\" font-family=\"Helvetica,sans-Serif\" font-size=\"14.00\">F1592 &lt;= 0.337</text>\n",
       "<text text-anchor=\"middle\" x=\"569\" y=\"-156.8\" font-family=\"Helvetica,sans-Serif\" font-size=\"14.00\">entropy = 1.909</text>\n",
       "<text text-anchor=\"middle\" x=\"569\" y=\"-141.8\" font-family=\"Helvetica,sans-Serif\" font-size=\"14.00\">samples = 31.2%</text>\n",
       "<text text-anchor=\"middle\" x=\"569\" y=\"-126.8\" font-family=\"Helvetica,sans-Serif\" font-size=\"14.00\">value = [0.014, 0.053, 0.018, 0.272, 0.444, 0.199]</text>\n",
       "<text text-anchor=\"middle\" x=\"569\" y=\"-111.8\" font-family=\"Helvetica,sans-Serif\" font-size=\"14.00\">class = truck</text>\n",
       "</g>\n",
       "<!-- 1&#45;&gt;2 -->\n",
       "<g id=\"edge2\" class=\"edge\"><title>1&#45;&gt;2</title>\n",
       "<path fill=\"none\" stroke=\"black\" d=\"M1029.41,-229.502C949.661,-215.125 856.545,-198.338 775.001,-183.637\"/>\n",
       "<polygon fill=\"black\" stroke=\"black\" points=\"775.578,-180.185 765.116,-181.855 774.336,-187.074 775.578,-180.185\"/>\n",
       "</g>\n",
       "<!-- 5 -->\n",
       "<g id=\"node6\" class=\"node\"><title>5</title>\n",
       "<path fill=\"#9de539\" fill-opacity=\"0.839216\" stroke=\"black\" d=\"M1394.5,-187C1394.5,-187 1041.5,-187 1041.5,-187 1035.5,-187 1029.5,-181 1029.5,-175 1029.5,-175 1029.5,-116 1029.5,-116 1029.5,-110 1035.5,-104 1041.5,-104 1041.5,-104 1394.5,-104 1394.5,-104 1400.5,-104 1406.5,-110 1406.5,-116 1406.5,-116 1406.5,-175 1406.5,-175 1406.5,-181 1400.5,-187 1394.5,-187\"/>\n",
       "<text text-anchor=\"middle\" x=\"1218\" y=\"-171.8\" font-family=\"Helvetica,sans-Serif\" font-size=\"14.00\">F232 &lt;= 0.31</text>\n",
       "<text text-anchor=\"middle\" x=\"1218\" y=\"-156.8\" font-family=\"Helvetica,sans-Serif\" font-size=\"14.00\">entropy = 0.756</text>\n",
       "<text text-anchor=\"middle\" x=\"1218\" y=\"-141.8\" font-family=\"Helvetica,sans-Serif\" font-size=\"14.00\">samples = 24.6%</text>\n",
       "<text text-anchor=\"middle\" x=\"1218\" y=\"-126.8\" font-family=\"Helvetica,sans-Serif\" font-size=\"14.00\">value = [0.006, 0.858, 0.0, 0.012, 0.017, 0.108]</text>\n",
       "<text text-anchor=\"middle\" x=\"1218\" y=\"-111.8\" font-family=\"Helvetica,sans-Serif\" font-size=\"14.00\">class = car</text>\n",
       "</g>\n",
       "<!-- 1&#45;&gt;5 -->\n",
       "<g id=\"edge5\" class=\"edge\"><title>1&#45;&gt;5</title>\n",
       "<path fill=\"none\" stroke=\"black\" d=\"M1218,-222.907C1218,-214.649 1218,-205.864 1218,-197.302\"/>\n",
       "<polygon fill=\"black\" stroke=\"black\" points=\"1221.5,-197.021 1218,-187.021 1214.5,-197.021 1221.5,-197.021\"/>\n",
       "</g>\n",
       "<!-- 3 -->\n",
       "<g id=\"node4\" class=\"node\"><title>3</title>\n",
       "<path fill=\"#8139e5\" fill-opacity=\"0.443137\" stroke=\"black\" d=\"M350,-68C350,-68 12,-68 12,-68 6,-68 0,-62 0,-56 0,-56 0,-12 0,-12 0,-6 6,-0 12,-0 12,-0 350,-0 350,-0 356,-0 362,-6 362,-12 362,-12 362,-56 362,-56 362,-62 356,-68 350,-68\"/>\n",
       "<text text-anchor=\"middle\" x=\"181\" y=\"-52.8\" font-family=\"Helvetica,sans-Serif\" font-size=\"14.00\">entropy = 1.521</text>\n",
       "<text text-anchor=\"middle\" x=\"181\" y=\"-37.8\" font-family=\"Helvetica,sans-Serif\" font-size=\"14.00\">samples = 20.6%</text>\n",
       "<text text-anchor=\"middle\" x=\"181\" y=\"-22.8\" font-family=\"Helvetica,sans-Serif\" font-size=\"14.00\">value = [0.021, 0.021, 0.0, 0.1, 0.592, 0.266]</text>\n",
       "<text text-anchor=\"middle\" x=\"181\" y=\"-7.8\" font-family=\"Helvetica,sans-Serif\" font-size=\"14.00\">class = truck</text>\n",
       "</g>\n",
       "<!-- 2&#45;&gt;3 -->\n",
       "<g id=\"edge3\" class=\"edge\"><title>2&#45;&gt;3</title>\n",
       "<path fill=\"none\" stroke=\"black\" d=\"M425.35,-103.96C386.826,-93.0874 345.455,-81.412 307.909,-70.8157\"/>\n",
       "<polygon fill=\"black\" stroke=\"black\" points=\"308.514,-67.3499 297.939,-68.0022 306.613,-74.0868 308.514,-67.3499\"/>\n",
       "</g>\n",
       "<!-- 4 -->\n",
       "<g id=\"node5\" class=\"node\"><title>4</title>\n",
       "<path fill=\"#399de5\" fill-opacity=\"0.537255\" stroke=\"black\" d=\"M745.5,-68C745.5,-68 392.5,-68 392.5,-68 386.5,-68 380.5,-62 380.5,-56 380.5,-56 380.5,-12 380.5,-12 380.5,-6 386.5,-0 392.5,-0 392.5,-0 745.5,-0 745.5,-0 751.5,-0 757.5,-6 757.5,-12 757.5,-12 757.5,-56 757.5,-56 757.5,-62 751.5,-68 745.5,-68\"/>\n",
       "<text text-anchor=\"middle\" x=\"569\" y=\"-52.8\" font-family=\"Helvetica,sans-Serif\" font-size=\"14.00\">entropy = 1.703</text>\n",
       "<text text-anchor=\"middle\" x=\"569\" y=\"-37.8\" font-family=\"Helvetica,sans-Serif\" font-size=\"14.00\">samples = 10.6%</text>\n",
       "<text text-anchor=\"middle\" x=\"569\" y=\"-22.8\" font-family=\"Helvetica,sans-Serif\" font-size=\"14.00\">value = [0.0, 0.115, 0.054, 0.608, 0.155, 0.068]</text>\n",
       "<text text-anchor=\"middle\" x=\"569\" y=\"-7.8\" font-family=\"Helvetica,sans-Serif\" font-size=\"14.00\">class = other</text>\n",
       "</g>\n",
       "<!-- 2&#45;&gt;4 -->\n",
       "<g id=\"edge4\" class=\"edge\"><title>2&#45;&gt;4</title>\n",
       "<path fill=\"none\" stroke=\"black\" d=\"M569,-103.726C569,-95.5175 569,-86.8595 569,-78.56\"/>\n",
       "<polygon fill=\"black\" stroke=\"black\" points=\"572.5,-78.2996 569,-68.2996 565.5,-78.2996 572.5,-78.2996\"/>\n",
       "</g>\n",
       "<!-- 6 -->\n",
       "<g id=\"node7\" class=\"node\"><title>6</title>\n",
       "<path fill=\"#e5399d\" fill-opacity=\"0.333333\" stroke=\"black\" d=\"M1102.5,-68C1102.5,-68 787.5,-68 787.5,-68 781.5,-68 775.5,-62 775.5,-56 775.5,-56 775.5,-12 775.5,-12 775.5,-6 781.5,-0 787.5,-0 787.5,-0 1102.5,-0 1102.5,-0 1108.5,-0 1114.5,-6 1114.5,-12 1114.5,-12 1114.5,-56 1114.5,-56 1114.5,-62 1108.5,-68 1102.5,-68\"/>\n",
       "<text text-anchor=\"middle\" x=\"945\" y=\"-52.8\" font-family=\"Helvetica,sans-Serif\" font-size=\"14.00\">entropy = 1.73</text>\n",
       "<text text-anchor=\"middle\" x=\"945\" y=\"-37.8\" font-family=\"Helvetica,sans-Serif\" font-size=\"14.00\">samples = 1.7%</text>\n",
       "<text text-anchor=\"middle\" x=\"945\" y=\"-22.8\" font-family=\"Helvetica,sans-Serif\" font-size=\"14.00\">value = [0.0, 0.083, 0.0, 0.167, 0.25, 0.5]</text>\n",
       "<text text-anchor=\"middle\" x=\"945\" y=\"-7.8\" font-family=\"Helvetica,sans-Serif\" font-size=\"14.00\">class = van</text>\n",
       "</g>\n",
       "<!-- 5&#45;&gt;6 -->\n",
       "<g id=\"edge6\" class=\"edge\"><title>5&#45;&gt;6</title>\n",
       "<path fill=\"none\" stroke=\"black\" d=\"M1116.73,-103.882C1090.51,-93.3656 1062.43,-82.1027 1036.73,-71.7947\"/>\n",
       "<polygon fill=\"black\" stroke=\"black\" points=\"1037.97,-68.5176 1027.38,-68.0433 1035.36,-75.0145 1037.97,-68.5176\"/>\n",
       "</g>\n",
       "<!-- 7 -->\n",
       "<g id=\"node8\" class=\"node\"><title>7</title>\n",
       "<path fill=\"#9de539\" fill-opacity=\"0.909804\" stroke=\"black\" d=\"M1467.5,-68C1467.5,-68 1144.5,-68 1144.5,-68 1138.5,-68 1132.5,-62 1132.5,-56 1132.5,-56 1132.5,-12 1132.5,-12 1132.5,-6 1138.5,-0 1144.5,-0 1144.5,-0 1467.5,-0 1467.5,-0 1473.5,-0 1479.5,-6 1479.5,-12 1479.5,-12 1479.5,-56 1479.5,-56 1479.5,-62 1473.5,-68 1467.5,-68\"/>\n",
       "<text text-anchor=\"middle\" x=\"1306\" y=\"-52.8\" font-family=\"Helvetica,sans-Serif\" font-size=\"14.00\">entropy = 0.45</text>\n",
       "<text text-anchor=\"middle\" x=\"1306\" y=\"-37.8\" font-family=\"Helvetica,sans-Serif\" font-size=\"14.00\">samples = 22.9%</text>\n",
       "<text text-anchor=\"middle\" x=\"1306\" y=\"-22.8\" font-family=\"Helvetica,sans-Serif\" font-size=\"14.00\">value = [0.006, 0.916, 0.0, 0.0, 0.0, 0.078]</text>\n",
       "<text text-anchor=\"middle\" x=\"1306\" y=\"-7.8\" font-family=\"Helvetica,sans-Serif\" font-size=\"14.00\">class = car</text>\n",
       "</g>\n",
       "<!-- 5&#45;&gt;7 -->\n",
       "<g id=\"edge7\" class=\"edge\"><title>5&#45;&gt;7</title>\n",
       "<path fill=\"none\" stroke=\"black\" d=\"M1250.77,-103.726C1257.95,-94.7878 1265.56,-85.3168 1272.76,-76.3558\"/>\n",
       "<polygon fill=\"black\" stroke=\"black\" points=\"1275.7,-78.2869 1279.24,-68.2996 1270.25,-73.9019 1275.7,-78.2869\"/>\n",
       "</g>\n",
       "<!-- 9 -->\n",
       "<g id=\"node10\" class=\"node\"><title>9</title>\n",
       "<path fill=\"#e58139\" fill-opacity=\"0.878431\" stroke=\"black\" d=\"M1964,-187C1964,-187 1596,-187 1596,-187 1590,-187 1584,-181 1584,-175 1584,-175 1584,-116 1584,-116 1584,-110 1590,-104 1596,-104 1596,-104 1964,-104 1964,-104 1970,-104 1976,-110 1976,-116 1976,-116 1976,-175 1976,-175 1976,-181 1970,-187 1964,-187\"/>\n",
       "<text text-anchor=\"middle\" x=\"1780\" y=\"-171.8\" font-family=\"Helvetica,sans-Serif\" font-size=\"14.00\">F1604 &lt;= 0.582</text>\n",
       "<text text-anchor=\"middle\" x=\"1780\" y=\"-156.8\" font-family=\"Helvetica,sans-Serif\" font-size=\"14.00\">entropy = 0.657</text>\n",
       "<text text-anchor=\"middle\" x=\"1780\" y=\"-141.8\" font-family=\"Helvetica,sans-Serif\" font-size=\"14.00\">samples = 25.3%</text>\n",
       "<text text-anchor=\"middle\" x=\"1780\" y=\"-126.8\" font-family=\"Helvetica,sans-Serif\" font-size=\"14.00\">value = [0.887, 0.003, 0.006, 0.079, 0.023, 0.003]</text>\n",
       "<text text-anchor=\"middle\" x=\"1780\" y=\"-111.8\" font-family=\"Helvetica,sans-Serif\" font-size=\"14.00\">class = bike</text>\n",
       "</g>\n",
       "<!-- 8&#45;&gt;9 -->\n",
       "<g id=\"edge9\" class=\"edge\"><title>8&#45;&gt;9</title>\n",
       "<path fill=\"none\" stroke=\"black\" d=\"M1780,-222.907C1780,-214.649 1780,-205.864 1780,-197.302\"/>\n",
       "<polygon fill=\"black\" stroke=\"black\" points=\"1783.5,-197.021 1780,-187.021 1776.5,-197.021 1783.5,-197.021\"/>\n",
       "</g>\n",
       "<!-- 12 -->\n",
       "<g id=\"node13\" class=\"node\"><title>12</title>\n",
       "<path fill=\"#39e581\" fill-opacity=\"0.921569\" stroke=\"black\" d=\"M2595.5,-187C2595.5,-187 2250.5,-187 2250.5,-187 2244.5,-187 2238.5,-181 2238.5,-175 2238.5,-175 2238.5,-116 2238.5,-116 2238.5,-110 2244.5,-104 2250.5,-104 2250.5,-104 2595.5,-104 2595.5,-104 2601.5,-104 2607.5,-110 2607.5,-116 2607.5,-116 2607.5,-175 2607.5,-175 2607.5,-181 2601.5,-187 2595.5,-187\"/>\n",
       "<text text-anchor=\"middle\" x=\"2423\" y=\"-171.8\" font-family=\"Helvetica,sans-Serif\" font-size=\"14.00\">F1727 &lt;= 0.292</text>\n",
       "<text text-anchor=\"middle\" x=\"2423\" y=\"-156.8\" font-family=\"Helvetica,sans-Serif\" font-size=\"14.00\">entropy = 0.506</text>\n",
       "<text text-anchor=\"middle\" x=\"2423\" y=\"-141.8\" font-family=\"Helvetica,sans-Serif\" font-size=\"14.00\">samples = 18.9%</text>\n",
       "<text text-anchor=\"middle\" x=\"2423\" y=\"-126.8\" font-family=\"Helvetica,sans-Serif\" font-size=\"14.00\">value = [0.03, 0.004, 0.925, 0.034, 0.008, 0.0]</text>\n",
       "<text text-anchor=\"middle\" x=\"2423\" y=\"-111.8\" font-family=\"Helvetica,sans-Serif\" font-size=\"14.00\">class = motorcycle</text>\n",
       "</g>\n",
       "<!-- 8&#45;&gt;12 -->\n",
       "<g id=\"edge12\" class=\"edge\"><title>8&#45;&gt;12</title>\n",
       "<path fill=\"none\" stroke=\"black\" d=\"M1968.58,-229.187C2050.3,-214.316 2145.93,-196.915 2228.33,-181.923\"/>\n",
       "<polygon fill=\"black\" stroke=\"black\" points=\"2229.1,-185.34 2238.31,-180.107 2227.84,-178.453 2229.1,-185.34\"/>\n",
       "</g>\n",
       "<!-- 10 -->\n",
       "<g id=\"node11\" class=\"node\"><title>10</title>\n",
       "<path fill=\"#399de5\" fill-opacity=\"0.474510\" stroke=\"black\" d=\"M1877,-68C1877,-68 1509,-68 1509,-68 1503,-68 1497,-62 1497,-56 1497,-56 1497,-12 1497,-12 1497,-6 1503,-0 1509,-0 1509,-0 1877,-0 1877,-0 1883,-0 1889,-6 1889,-12 1889,-12 1889,-56 1889,-56 1889,-62 1883,-68 1877,-68\"/>\n",
       "<text text-anchor=\"middle\" x=\"1693\" y=\"-52.8\" font-family=\"Helvetica,sans-Serif\" font-size=\"14.00\">entropy = 1.78</text>\n",
       "<text text-anchor=\"middle\" x=\"1693\" y=\"-37.8\" font-family=\"Helvetica,sans-Serif\" font-size=\"14.00\">samples = 3.3%</text>\n",
       "<text text-anchor=\"middle\" x=\"1693\" y=\"-22.8\" font-family=\"Helvetica,sans-Serif\" font-size=\"14.00\">value = [0.174, 0.022, 0.043, 0.565, 0.174, 0.022]</text>\n",
       "<text text-anchor=\"middle\" x=\"1693\" y=\"-7.8\" font-family=\"Helvetica,sans-Serif\" font-size=\"14.00\">class = other</text>\n",
       "</g>\n",
       "<!-- 9&#45;&gt;10 -->\n",
       "<g id=\"edge10\" class=\"edge\"><title>9&#45;&gt;10</title>\n",
       "<path fill=\"none\" stroke=\"black\" d=\"M1747.6,-103.726C1740.5,-94.7878 1732.98,-85.3168 1725.86,-76.3558\"/>\n",
       "<polygon fill=\"black\" stroke=\"black\" points=\"1728.42,-73.9519 1719.46,-68.2996 1722.94,-78.3065 1728.42,-73.9519\"/>\n",
       "</g>\n",
       "<!-- 11 -->\n",
       "<g id=\"node12\" class=\"node\"><title>11</title>\n",
       "<path fill=\"#e58139\" fill-opacity=\"0.992157\" stroke=\"black\" d=\"M2227,-68C2227,-68 1919,-68 1919,-68 1913,-68 1907,-62 1907,-56 1907,-56 1907,-12 1907,-12 1907,-6 1913,-0 1919,-0 1919,-0 2227,-0 2227,-0 2233,-0 2239,-6 2239,-12 2239,-12 2239,-56 2239,-56 2239,-62 2233,-68 2227,-68\"/>\n",
       "<text text-anchor=\"middle\" x=\"2073\" y=\"-52.8\" font-family=\"Helvetica,sans-Serif\" font-size=\"14.00\">entropy = 0.057</text>\n",
       "<text text-anchor=\"middle\" x=\"2073\" y=\"-37.8\" font-family=\"Helvetica,sans-Serif\" font-size=\"14.00\">samples = 22.0%</text>\n",
       "<text text-anchor=\"middle\" x=\"2073\" y=\"-22.8\" font-family=\"Helvetica,sans-Serif\" font-size=\"14.00\">value = [0.994, 0.0, 0.0, 0.006, 0.0, 0.0]</text>\n",
       "<text text-anchor=\"middle\" x=\"2073\" y=\"-7.8\" font-family=\"Helvetica,sans-Serif\" font-size=\"14.00\">class = bike</text>\n",
       "</g>\n",
       "<!-- 9&#45;&gt;11 -->\n",
       "<g id=\"edge11\" class=\"edge\"><title>9&#45;&gt;11</title>\n",
       "<path fill=\"none\" stroke=\"black\" d=\"M1888.69,-103.882C1916.95,-93.3195 1947.23,-82.0039 1974.91,-71.6591\"/>\n",
       "<polygon fill=\"black\" stroke=\"black\" points=\"1976.44,-74.8226 1984.58,-68.0433 1973.99,-68.2656 1976.44,-74.8226\"/>\n",
       "</g>\n",
       "<!-- 13 -->\n",
       "<g id=\"node14\" class=\"node\"><title>13</title>\n",
       "<path fill=\"#399de5\" fill-opacity=\"0.152941\" stroke=\"black\" d=\"M2577,-68C2577,-68 2269,-68 2269,-68 2263,-68 2257,-62 2257,-56 2257,-56 2257,-12 2257,-12 2257,-6 2263,-0 2269,-0 2269,-0 2577,-0 2577,-0 2583,-0 2589,-6 2589,-12 2589,-12 2589,-56 2589,-56 2589,-62 2583,-68 2577,-68\"/>\n",
       "<text text-anchor=\"middle\" x=\"2423\" y=\"-52.8\" font-family=\"Helvetica,sans-Serif\" font-size=\"14.00\">entropy = 1.675</text>\n",
       "<text text-anchor=\"middle\" x=\"2423\" y=\"-37.8\" font-family=\"Helvetica,sans-Serif\" font-size=\"14.00\">samples = 1.4%</text>\n",
       "<text text-anchor=\"middle\" x=\"2423\" y=\"-22.8\" font-family=\"Helvetica,sans-Serif\" font-size=\"14.00\">value = [0.35, 0.0, 0.15, 0.45, 0.05, 0.0]</text>\n",
       "<text text-anchor=\"middle\" x=\"2423\" y=\"-7.8\" font-family=\"Helvetica,sans-Serif\" font-size=\"14.00\">class = other</text>\n",
       "</g>\n",
       "<!-- 12&#45;&gt;13 -->\n",
       "<g id=\"edge13\" class=\"edge\"><title>12&#45;&gt;13</title>\n",
       "<path fill=\"none\" stroke=\"black\" d=\"M2423,-103.726C2423,-95.5175 2423,-86.8595 2423,-78.56\"/>\n",
       "<polygon fill=\"black\" stroke=\"black\" points=\"2426.5,-78.2996 2423,-68.2996 2419.5,-78.2996 2426.5,-78.2996\"/>\n",
       "</g>\n",
       "<!-- 14 -->\n",
       "<g id=\"node15\" class=\"node\"><title>14</title>\n",
       "<path fill=\"#39e581\" fill-opacity=\"0.988235\" stroke=\"black\" d=\"M2957,-68C2957,-68 2619,-68 2619,-68 2613,-68 2607,-62 2607,-56 2607,-56 2607,-12 2607,-12 2607,-6 2613,-0 2619,-0 2619,-0 2957,-0 2957,-0 2963,-0 2969,-6 2969,-12 2969,-12 2969,-56 2969,-56 2969,-62 2963,-68 2957,-68\"/>\n",
       "<text text-anchor=\"middle\" x=\"2788\" y=\"-52.8\" font-family=\"Helvetica,sans-Serif\" font-size=\"14.00\">entropy = 0.115</text>\n",
       "<text text-anchor=\"middle\" x=\"2788\" y=\"-37.8\" font-family=\"Helvetica,sans-Serif\" font-size=\"14.00\">samples = 17.5%</text>\n",
       "<text text-anchor=\"middle\" x=\"2788\" y=\"-22.8\" font-family=\"Helvetica,sans-Serif\" font-size=\"14.00\">value = [0.004, 0.004, 0.988, 0.0, 0.004, 0.0]</text>\n",
       "<text text-anchor=\"middle\" x=\"2788\" y=\"-7.8\" font-family=\"Helvetica,sans-Serif\" font-size=\"14.00\">class = motorcycle</text>\n",
       "</g>\n",
       "<!-- 12&#45;&gt;14 -->\n",
       "<g id=\"edge14\" class=\"edge\"><title>12&#45;&gt;14</title>\n",
       "<path fill=\"none\" stroke=\"black\" d=\"M2558.13,-103.96C2594.22,-93.1336 2632.96,-81.5113 2668.16,-70.951\"/>\n",
       "<polygon fill=\"black\" stroke=\"black\" points=\"2669.42,-74.2281 2677.99,-68.0022 2667.41,-67.5233 2669.42,-74.2281\"/>\n",
       "</g>\n",
       "</g>\n",
       "</svg>\n"
      ],
      "text/plain": [
       "<graphviz.files.Source at 0x7fa43ea67860>"
      ]
     },
     "execution_count": 19,
     "metadata": {},
     "output_type": "execute_result"
    }
   ],
   "source": [
    "dot_data = export_graphviz( dt_model_3, out_file=None,\n",
    "feature_names=['F'+str(i) for i in range(0,X_test_features.shape[1])], class_names=class_indices,\n",
    "filled=True, rounded=True, proportion=True\n",
    ")\n",
    "graphviz.Source(dot_data)"
   ]
  },
  {
   "cell_type": "markdown",
   "metadata": {},
   "source": [
    "As we can see, bikes and motorcycles are best predited with this decision tree (99% for bike and 98% for motrocycle)."
   ]
  },
  {
   "cell_type": "markdown",
   "metadata": {},
   "source": [
    "- Do you get better results if you reduce the number of dimensions with PCA first?\n",
    "\n",
    "We will add PCA to the pipeline :"
   ]
  },
  {
   "cell_type": "code",
   "execution_count": 20,
   "metadata": {},
   "outputs": [],
   "source": [
    "grid = ParameterGrid({\n",
    "'dt__max_depth': np.arange(1,20),\n",
    "'dt__criterion': ['gini', 'entropy'],\n",
    "'pca__n_components':np.arange(2,30)\n",
    "})\n",
    "\n",
    "dt_model_pca =  Pipeline([\n",
    "('pca', PCA(random_state=0)),\n",
    "('dt', DecisionTreeClassifier(random_state=0))\n",
    "])\n",
    "\n",
    "\n",
    "fit_dt_pca = fit_model(dt_model_pca, grid, X_train_features, y_train, X_valid_features, y_valid, X_test_features, y_test)"
   ]
  },
  {
   "cell_type": "markdown",
   "metadata": {},
   "source": [
    "Best params, best validation score, and test accuracy score are :"
   ]
  },
  {
   "cell_type": "code",
   "execution_count": 21,
   "metadata": {},
   "outputs": [
    {
     "name": "stdout",
     "output_type": "stream",
     "text": [
      "Best params :  {'dt__criterion': 'entropy', 'dt__max_depth': 6, 'pca__n_components': 6}\n",
      "Best validation score :  0.9064748201438849\n",
      "Test score :  0.92\n"
     ]
    }
   ],
   "source": [
    "print('Best params : ', fit_dt_pca['best_params'])\n",
    "print('Best validation score : ', fit_dt_pca['best_valid_score'])\n",
    "print('Test score : ', fit_dt_pca['test_score'])"
   ]
  },
  {
   "cell_type": "markdown",
   "metadata": {},
   "source": [
    "Adding PCA improves test accuracy. It passes from 84% to 92%)."
   ]
  }
 ],
 "metadata": {
  "kernelspec": {
   "display_name": "Python 3",
   "language": "python",
   "name": "python3"
  },
  "language_info": {
   "codemirror_mode": {
    "name": "ipython",
    "version": 3
   },
   "file_extension": ".py",
   "mimetype": "text/x-python",
   "name": "python",
   "nbconvert_exporter": "python",
   "pygments_lexer": "ipython3",
   "version": "3.6.10"
  }
 },
 "nbformat": 4,
 "nbformat_minor": 4
}
